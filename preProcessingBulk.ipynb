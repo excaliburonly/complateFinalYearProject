{
 "cells": [
  {
   "cell_type": "code",
   "execution_count": 1,
   "id": "initial_id",
   "metadata": {
    "collapsed": true,
    "ExecuteTime": {
     "end_time": "2023-11-04T07:12:25.325144100Z",
     "start_time": "2023-11-04T07:12:22.662975600Z"
    }
   },
   "outputs": [],
   "source": [
    "import numpy as np\n",
    "import cv2\n",
    "import os"
   ]
  },
  {
   "cell_type": "code",
   "execution_count": 2,
   "outputs": [],
   "source": [
    "def PreProcessing(directory,output_path):\n",
    "    for filename in os.listdir(directory):\n",
    "        if filename.endswith('.jpg'):\n",
    "            img = cv2.imread(directory+'/'+filename)\n",
    "            gray = cv2.cvtColor(img,cv2.COLOR_BGR2GRAY)\n",
    "            ret, thresh = cv2.threshold(gray,0,255,cv2.THRESH_OTSU)\n",
    "            colormask = np.zeros(img.shape, dtype=np.uint8)\n",
    "            colormask[thresh!=0] = np.array((0,0,255))\n",
    "            ret, markers = cv2.connectedComponents(thresh)\n",
    "            marker_area = [np.sum(markers==m) for m in range(np.max(markers)) if m!=0] \n",
    "            if np.size(marker_area):\n",
    "                largest_component = np.argmax(marker_area)+1\n",
    "            else:\n",
    "                largest_component = 1\n",
    "            # largest_component = np.argmax(marker_area)+1 #Add 1 since we dropped zero above                        \n",
    "            brain_mask = markers==largest_component\n",
    "            brain_out = img.copy()\n",
    "            brain_out[brain_mask==False] = (0,0,0)\n",
    "            gray = cv2.cvtColor(brain_out, cv2.COLOR_BGR2GRAY)\n",
    "            equalized_img = cv2.equalizeHist(gray)\n",
    "            cv2.imwrite(output_path+'/'+filename,equalized_img)"
   ],
   "metadata": {
    "collapsed": false,
    "ExecuteTime": {
     "end_time": "2023-11-04T07:12:27.464441100Z",
     "start_time": "2023-11-04T07:12:27.412348100Z"
    }
   },
   "id": "6690d98fc534d6dc"
  },
  {
   "cell_type": "code",
   "execution_count": 14,
   "outputs": [],
   "source": [
    "directory = \"./testing/pituitary/frontal_back\"\n",
    "output_path = './testing/pituitary/preProcessed/frontal_back'\n",
    "PreProcessing(directory, output_path)"
   ],
   "metadata": {
    "collapsed": false,
    "ExecuteTime": {
     "end_time": "2023-11-04T07:16:58.768867800Z",
     "start_time": "2023-11-04T07:16:52.471094600Z"
    }
   },
   "id": "2f54b67caaee22e4"
  },
  {
   "cell_type": "code",
   "execution_count": 10,
   "outputs": [],
   "source": [],
   "metadata": {
    "collapsed": false,
    "ExecuteTime": {
     "end_time": "2023-10-30T11:18:28.833841600Z",
     "start_time": "2023-10-30T11:18:28.831670600Z"
    }
   },
   "id": "f9925c431f1a42a7"
  }
 ],
 "metadata": {
  "kernelspec": {
   "display_name": "Python 3",
   "language": "python",
   "name": "python3"
  },
  "language_info": {
   "codemirror_mode": {
    "name": "ipython",
    "version": 2
   },
   "file_extension": ".py",
   "mimetype": "text/x-python",
   "name": "python",
   "nbconvert_exporter": "python",
   "pygments_lexer": "ipython2",
   "version": "2.7.6"
  }
 },
 "nbformat": 4,
 "nbformat_minor": 5
}
